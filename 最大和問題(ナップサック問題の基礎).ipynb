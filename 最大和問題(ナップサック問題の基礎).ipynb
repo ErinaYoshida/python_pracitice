{
  "nbformat": 4,
  "nbformat_minor": 0,
  "metadata": {
    "colab": {
      "name": "最大和問題(ナップサック問題の基礎).ipynb",
      "provenance": [],
      "authorship_tag": "ABX9TyMET5U13viVRT55AOjMe5TR",
      "include_colab_link": true
    },
    "kernelspec": {
      "name": "python3",
      "display_name": "Python 3"
    },
    "language_info": {
      "name": "python"
    }
  },
  "cells": [
    {
      "cell_type": "markdown",
      "metadata": {
        "id": "view-in-github",
        "colab_type": "text"
      },
      "source": [
        "<a href=\"https://colab.research.google.com/github/ErinaYoshida/python_pracitice/blob/main/%E6%9C%80%E5%A4%A7%E5%92%8C%E5%95%8F%E9%A1%8C(%E3%83%8A%E3%83%83%E3%83%97%E3%82%B5%E3%83%83%E3%82%AF%E5%95%8F%E9%A1%8C%E3%81%AE%E5%9F%BA%E7%A4%8E).ipynb\" target=\"_parent\"><img src=\"https://colab.research.google.com/assets/colab-badge.svg\" alt=\"Open In Colab\"/></a>"
      ]
    },
    {
      "cell_type": "code",
      "metadata": {
        "colab": {
          "base_uri": "https://localhost:8080/"
        },
        "id": "fOVFew_jRZ_j",
        "outputId": "5830d8c4-d532-477e-b794-fb68ca86e121"
      },
      "source": [
        "N = int(input())\n",
        "A = input().split()\n",
        "A = [int(i) for i in A]"
      ],
      "execution_count": 27,
      "outputs": [
        {
          "name": "stdout",
          "output_type": "stream",
          "text": [
            "3\n",
            "7 -6 9\n"
          ]
        }
      ]
    },
    {
      "cell_type": "code",
      "metadata": {
        "colab": {
          "base_uri": "https://localhost:8080/"
        },
        "id": "EPzkqjR3S9zg",
        "outputId": "680712d7-1c55-495d-9d0a-98172a01f69f"
      },
      "source": [
        "dp = list(range(N+1))  # dpテーブル\n",
        "dp[0] = 0  #初期値\n",
        "for n, a in enumerate(A):\n",
        "  dp[n+1] = max(dp[n], dp[n] + a)\n",
        "print(max(dp))"
      ],
      "execution_count": 28,
      "outputs": [
        {
          "output_type": "stream",
          "name": "stdout",
          "text": [
            "16\n"
          ]
        }
      ]
    }
  ]
}
